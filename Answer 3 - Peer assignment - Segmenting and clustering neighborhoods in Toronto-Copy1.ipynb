{
 "cells": [
  {
   "cell_type": "markdown",
   "metadata": {},
   "source": [
    "# Peer assignment - Segmenting and clustering neighborhoods in Toronto"
   ]
  },
  {
   "cell_type": "markdown",
   "metadata": {},
   "source": [
    "### Importing library"
   ]
  },
  {
   "cell_type": "code",
   "execution_count": 2,
   "metadata": {},
   "outputs": [],
   "source": [
    "import pandas as pd"
   ]
  },
  {
   "cell_type": "markdown",
   "metadata": {},
   "source": [
    "### Scraping from wikipedia"
   ]
  },
  {
   "cell_type": "code",
   "execution_count": 3,
   "metadata": {},
   "outputs": [],
   "source": [
    "url = 'https://en.wikipedia.org/wiki/List_of_postal_codes_of_Canada:_M'\n",
    "dfs = pd.read_html(url)\n",
    "df = pd.DataFrame(dfs[0][['Postal Code','Borough','Neighbourhood']])"
   ]
  },
  {
   "cell_type": "markdown",
   "metadata": {},
   "source": [
    "### Remove not assigned in borough"
   ]
  },
  {
   "cell_type": "code",
   "execution_count": 4,
   "metadata": {},
   "outputs": [
    {
     "data": {
      "text/html": [
       "<div>\n",
       "<style scoped>\n",
       "    .dataframe tbody tr th:only-of-type {\n",
       "        vertical-align: middle;\n",
       "    }\n",
       "\n",
       "    .dataframe tbody tr th {\n",
       "        vertical-align: top;\n",
       "    }\n",
       "\n",
       "    .dataframe thead th {\n",
       "        text-align: right;\n",
       "    }\n",
       "</style>\n",
       "<table border=\"1\" class=\"dataframe\">\n",
       "  <thead>\n",
       "    <tr style=\"text-align: right;\">\n",
       "      <th></th>\n",
       "      <th>Postal Code</th>\n",
       "      <th>Borough</th>\n",
       "      <th>Neighbourhood</th>\n",
       "    </tr>\n",
       "  </thead>\n",
       "  <tbody>\n",
       "    <tr>\n",
       "      <th>2</th>\n",
       "      <td>M3A</td>\n",
       "      <td>North York</td>\n",
       "      <td>Parkwoods</td>\n",
       "    </tr>\n",
       "    <tr>\n",
       "      <th>3</th>\n",
       "      <td>M4A</td>\n",
       "      <td>North York</td>\n",
       "      <td>Victoria Village</td>\n",
       "    </tr>\n",
       "    <tr>\n",
       "      <th>4</th>\n",
       "      <td>M5A</td>\n",
       "      <td>Downtown Toronto</td>\n",
       "      <td>Regent Park, Harbourfront</td>\n",
       "    </tr>\n",
       "    <tr>\n",
       "      <th>5</th>\n",
       "      <td>M6A</td>\n",
       "      <td>North York</td>\n",
       "      <td>Lawrence Manor, Lawrence Heights</td>\n",
       "    </tr>\n",
       "    <tr>\n",
       "      <th>6</th>\n",
       "      <td>M7A</td>\n",
       "      <td>Downtown Toronto</td>\n",
       "      <td>Queen's Park, Ontario Provincial Government</td>\n",
       "    </tr>\n",
       "    <tr>\n",
       "      <th>...</th>\n",
       "      <td>...</td>\n",
       "      <td>...</td>\n",
       "      <td>...</td>\n",
       "    </tr>\n",
       "    <tr>\n",
       "      <th>160</th>\n",
       "      <td>M8X</td>\n",
       "      <td>Etobicoke</td>\n",
       "      <td>The Kingsway, Montgomery Road, Old Mill North</td>\n",
       "    </tr>\n",
       "    <tr>\n",
       "      <th>165</th>\n",
       "      <td>M4Y</td>\n",
       "      <td>Downtown Toronto</td>\n",
       "      <td>Church and Wellesley</td>\n",
       "    </tr>\n",
       "    <tr>\n",
       "      <th>168</th>\n",
       "      <td>M7Y</td>\n",
       "      <td>East Toronto</td>\n",
       "      <td>Business reply mail Processing Centre, South C...</td>\n",
       "    </tr>\n",
       "    <tr>\n",
       "      <th>169</th>\n",
       "      <td>M8Y</td>\n",
       "      <td>Etobicoke</td>\n",
       "      <td>Old Mill South, King's Mill Park, Sunnylea, Hu...</td>\n",
       "    </tr>\n",
       "    <tr>\n",
       "      <th>178</th>\n",
       "      <td>M8Z</td>\n",
       "      <td>Etobicoke</td>\n",
       "      <td>Mimico NW, The Queensway West, South of Bloor,...</td>\n",
       "    </tr>\n",
       "  </tbody>\n",
       "</table>\n",
       "<p>103 rows × 3 columns</p>\n",
       "</div>"
      ],
      "text/plain": [
       "    Postal Code           Borough  \\\n",
       "2           M3A        North York   \n",
       "3           M4A        North York   \n",
       "4           M5A  Downtown Toronto   \n",
       "5           M6A        North York   \n",
       "6           M7A  Downtown Toronto   \n",
       "..          ...               ...   \n",
       "160         M8X         Etobicoke   \n",
       "165         M4Y  Downtown Toronto   \n",
       "168         M7Y      East Toronto   \n",
       "169         M8Y         Etobicoke   \n",
       "178         M8Z         Etobicoke   \n",
       "\n",
       "                                         Neighbourhood  \n",
       "2                                            Parkwoods  \n",
       "3                                     Victoria Village  \n",
       "4                            Regent Park, Harbourfront  \n",
       "5                     Lawrence Manor, Lawrence Heights  \n",
       "6          Queen's Park, Ontario Provincial Government  \n",
       "..                                                 ...  \n",
       "160      The Kingsway, Montgomery Road, Old Mill North  \n",
       "165                               Church and Wellesley  \n",
       "168  Business reply mail Processing Centre, South C...  \n",
       "169  Old Mill South, King's Mill Park, Sunnylea, Hu...  \n",
       "178  Mimico NW, The Queensway West, South of Bloor,...  \n",
       "\n",
       "[103 rows x 3 columns]"
      ]
     },
     "execution_count": 4,
     "metadata": {},
     "output_type": "execute_result"
    }
   ],
   "source": [
    "df_filtered = df[df['Borough'] != 'Not assigned'] \n",
    "df_filtered"
   ]
  },
  {
   "cell_type": "markdown",
   "metadata": {},
   "source": [
    "### Merge Neightborhood with the same postal code"
   ]
  },
  {
   "cell_type": "code",
   "execution_count": 5,
   "metadata": {},
   "outputs": [
    {
     "data": {
      "text/html": [
       "<div>\n",
       "<style scoped>\n",
       "    .dataframe tbody tr th:only-of-type {\n",
       "        vertical-align: middle;\n",
       "    }\n",
       "\n",
       "    .dataframe tbody tr th {\n",
       "        vertical-align: top;\n",
       "    }\n",
       "\n",
       "    .dataframe thead th {\n",
       "        text-align: right;\n",
       "    }\n",
       "</style>\n",
       "<table border=\"1\" class=\"dataframe\">\n",
       "  <thead>\n",
       "    <tr style=\"text-align: right;\">\n",
       "      <th></th>\n",
       "      <th>Postal Code</th>\n",
       "      <th>Borough</th>\n",
       "      <th>Neighbourhood</th>\n",
       "    </tr>\n",
       "  </thead>\n",
       "  <tbody>\n",
       "    <tr>\n",
       "      <th>0</th>\n",
       "      <td>M1B</td>\n",
       "      <td>Scarborough</td>\n",
       "      <td>Malvern, Rouge</td>\n",
       "    </tr>\n",
       "    <tr>\n",
       "      <th>1</th>\n",
       "      <td>M1C</td>\n",
       "      <td>Scarborough</td>\n",
       "      <td>Rouge Hill, Port Union, Highland Creek</td>\n",
       "    </tr>\n",
       "    <tr>\n",
       "      <th>2</th>\n",
       "      <td>M1E</td>\n",
       "      <td>Scarborough</td>\n",
       "      <td>Guildwood, Morningside, West Hill</td>\n",
       "    </tr>\n",
       "    <tr>\n",
       "      <th>3</th>\n",
       "      <td>M1G</td>\n",
       "      <td>Scarborough</td>\n",
       "      <td>Woburn</td>\n",
       "    </tr>\n",
       "    <tr>\n",
       "      <th>4</th>\n",
       "      <td>M1H</td>\n",
       "      <td>Scarborough</td>\n",
       "      <td>Cedarbrae</td>\n",
       "    </tr>\n",
       "    <tr>\n",
       "      <th>...</th>\n",
       "      <td>...</td>\n",
       "      <td>...</td>\n",
       "      <td>...</td>\n",
       "    </tr>\n",
       "    <tr>\n",
       "      <th>98</th>\n",
       "      <td>M9N</td>\n",
       "      <td>York</td>\n",
       "      <td>Weston</td>\n",
       "    </tr>\n",
       "    <tr>\n",
       "      <th>99</th>\n",
       "      <td>M9P</td>\n",
       "      <td>Etobicoke</td>\n",
       "      <td>Westmount</td>\n",
       "    </tr>\n",
       "    <tr>\n",
       "      <th>100</th>\n",
       "      <td>M9R</td>\n",
       "      <td>Etobicoke</td>\n",
       "      <td>Kingsview Village, St. Phillips, Martin Grove ...</td>\n",
       "    </tr>\n",
       "    <tr>\n",
       "      <th>101</th>\n",
       "      <td>M9V</td>\n",
       "      <td>Etobicoke</td>\n",
       "      <td>South Steeles, Silverstone, Humbergate, Jamest...</td>\n",
       "    </tr>\n",
       "    <tr>\n",
       "      <th>102</th>\n",
       "      <td>M9W</td>\n",
       "      <td>Etobicoke</td>\n",
       "      <td>Northwest, West Humber - Clairville</td>\n",
       "    </tr>\n",
       "  </tbody>\n",
       "</table>\n",
       "<p>103 rows × 3 columns</p>\n",
       "</div>"
      ],
      "text/plain": [
       "    Postal Code      Borough  \\\n",
       "0           M1B  Scarborough   \n",
       "1           M1C  Scarborough   \n",
       "2           M1E  Scarborough   \n",
       "3           M1G  Scarborough   \n",
       "4           M1H  Scarborough   \n",
       "..          ...          ...   \n",
       "98          M9N         York   \n",
       "99          M9P    Etobicoke   \n",
       "100         M9R    Etobicoke   \n",
       "101         M9V    Etobicoke   \n",
       "102         M9W    Etobicoke   \n",
       "\n",
       "                                         Neighbourhood  \n",
       "0                                       Malvern, Rouge  \n",
       "1               Rouge Hill, Port Union, Highland Creek  \n",
       "2                    Guildwood, Morningside, West Hill  \n",
       "3                                               Woburn  \n",
       "4                                            Cedarbrae  \n",
       "..                                                 ...  \n",
       "98                                              Weston  \n",
       "99                                           Westmount  \n",
       "100  Kingsview Village, St. Phillips, Martin Grove ...  \n",
       "101  South Steeles, Silverstone, Humbergate, Jamest...  \n",
       "102                Northwest, West Humber - Clairville  \n",
       "\n",
       "[103 rows x 3 columns]"
      ]
     },
     "execution_count": 5,
     "metadata": {},
     "output_type": "execute_result"
    }
   ],
   "source": [
    "df_filtered = df_filtered.groupby(['Postal Code','Borough'])['Neighbourhood'].apply(', '.join).reset_index()\n",
    "df_filtered"
   ]
  },
  {
   "cell_type": "markdown",
   "metadata": {},
   "source": [
    "### Assigned Neightbourhood to Borough if Neighbourhood is not assigned"
   ]
  },
  {
   "cell_type": "code",
   "execution_count": 6,
   "metadata": {},
   "outputs": [
    {
     "data": {
      "text/html": [
       "<div>\n",
       "<style scoped>\n",
       "    .dataframe tbody tr th:only-of-type {\n",
       "        vertical-align: middle;\n",
       "    }\n",
       "\n",
       "    .dataframe tbody tr th {\n",
       "        vertical-align: top;\n",
       "    }\n",
       "\n",
       "    .dataframe thead th {\n",
       "        text-align: right;\n",
       "    }\n",
       "</style>\n",
       "<table border=\"1\" class=\"dataframe\">\n",
       "  <thead>\n",
       "    <tr style=\"text-align: right;\">\n",
       "      <th></th>\n",
       "      <th>Postal Code</th>\n",
       "      <th>Borough</th>\n",
       "      <th>Neighbourhood</th>\n",
       "    </tr>\n",
       "  </thead>\n",
       "  <tbody>\n",
       "    <tr>\n",
       "      <th>0</th>\n",
       "      <td>M1B</td>\n",
       "      <td>Scarborough</td>\n",
       "      <td>Malvern, Rouge</td>\n",
       "    </tr>\n",
       "    <tr>\n",
       "      <th>1</th>\n",
       "      <td>M1C</td>\n",
       "      <td>Scarborough</td>\n",
       "      <td>Rouge Hill, Port Union, Highland Creek</td>\n",
       "    </tr>\n",
       "    <tr>\n",
       "      <th>2</th>\n",
       "      <td>M1E</td>\n",
       "      <td>Scarborough</td>\n",
       "      <td>Guildwood, Morningside, West Hill</td>\n",
       "    </tr>\n",
       "    <tr>\n",
       "      <th>3</th>\n",
       "      <td>M1G</td>\n",
       "      <td>Scarborough</td>\n",
       "      <td>Woburn</td>\n",
       "    </tr>\n",
       "    <tr>\n",
       "      <th>4</th>\n",
       "      <td>M1H</td>\n",
       "      <td>Scarborough</td>\n",
       "      <td>Cedarbrae</td>\n",
       "    </tr>\n",
       "    <tr>\n",
       "      <th>...</th>\n",
       "      <td>...</td>\n",
       "      <td>...</td>\n",
       "      <td>...</td>\n",
       "    </tr>\n",
       "    <tr>\n",
       "      <th>98</th>\n",
       "      <td>M9N</td>\n",
       "      <td>York</td>\n",
       "      <td>Weston</td>\n",
       "    </tr>\n",
       "    <tr>\n",
       "      <th>99</th>\n",
       "      <td>M9P</td>\n",
       "      <td>Etobicoke</td>\n",
       "      <td>Westmount</td>\n",
       "    </tr>\n",
       "    <tr>\n",
       "      <th>100</th>\n",
       "      <td>M9R</td>\n",
       "      <td>Etobicoke</td>\n",
       "      <td>Kingsview Village, St. Phillips, Martin Grove ...</td>\n",
       "    </tr>\n",
       "    <tr>\n",
       "      <th>101</th>\n",
       "      <td>M9V</td>\n",
       "      <td>Etobicoke</td>\n",
       "      <td>South Steeles, Silverstone, Humbergate, Jamest...</td>\n",
       "    </tr>\n",
       "    <tr>\n",
       "      <th>102</th>\n",
       "      <td>M9W</td>\n",
       "      <td>Etobicoke</td>\n",
       "      <td>Northwest, West Humber - Clairville</td>\n",
       "    </tr>\n",
       "  </tbody>\n",
       "</table>\n",
       "<p>103 rows × 3 columns</p>\n",
       "</div>"
      ],
      "text/plain": [
       "    Postal Code      Borough  \\\n",
       "0           M1B  Scarborough   \n",
       "1           M1C  Scarborough   \n",
       "2           M1E  Scarborough   \n",
       "3           M1G  Scarborough   \n",
       "4           M1H  Scarborough   \n",
       "..          ...          ...   \n",
       "98          M9N         York   \n",
       "99          M9P    Etobicoke   \n",
       "100         M9R    Etobicoke   \n",
       "101         M9V    Etobicoke   \n",
       "102         M9W    Etobicoke   \n",
       "\n",
       "                                         Neighbourhood  \n",
       "0                                       Malvern, Rouge  \n",
       "1               Rouge Hill, Port Union, Highland Creek  \n",
       "2                    Guildwood, Morningside, West Hill  \n",
       "3                                               Woburn  \n",
       "4                                            Cedarbrae  \n",
       "..                                                 ...  \n",
       "98                                              Weston  \n",
       "99                                           Westmount  \n",
       "100  Kingsview Village, St. Phillips, Martin Grove ...  \n",
       "101  South Steeles, Silverstone, Humbergate, Jamest...  \n",
       "102                Northwest, West Humber - Clairville  \n",
       "\n",
       "[103 rows x 3 columns]"
      ]
     },
     "execution_count": 6,
     "metadata": {},
     "output_type": "execute_result"
    }
   ],
   "source": [
    "df_new = pd.DataFrame(df_filtered)\n",
    "df_new.loc[df_new['Neighbourhood'] == 'Not assigned',['Neighbourhood'] ] = df_new['Borough']\n",
    "df_new"
   ]
  },
  {
   "cell_type": "markdown",
   "metadata": {},
   "source": [
    "### Shaping"
   ]
  },
  {
   "cell_type": "code",
   "execution_count": 7,
   "metadata": {},
   "outputs": [
    {
     "data": {
      "text/plain": [
       "(103, 3)"
      ]
     },
     "execution_count": 7,
     "metadata": {},
     "output_type": "execute_result"
    }
   ],
   "source": [
    "df_new.shape"
   ]
  },
  {
   "cell_type": "markdown",
   "metadata": {},
   "source": [
    "### Import csv that contains longitude and latitude"
   ]
  },
  {
   "cell_type": "code",
   "execution_count": 8,
   "metadata": {},
   "outputs": [
    {
     "data": {
      "text/html": [
       "<div>\n",
       "<style scoped>\n",
       "    .dataframe tbody tr th:only-of-type {\n",
       "        vertical-align: middle;\n",
       "    }\n",
       "\n",
       "    .dataframe tbody tr th {\n",
       "        vertical-align: top;\n",
       "    }\n",
       "\n",
       "    .dataframe thead th {\n",
       "        text-align: right;\n",
       "    }\n",
       "</style>\n",
       "<table border=\"1\" class=\"dataframe\">\n",
       "  <thead>\n",
       "    <tr style=\"text-align: right;\">\n",
       "      <th></th>\n",
       "      <th>Postal Code</th>\n",
       "      <th>Latitude</th>\n",
       "      <th>Longitude</th>\n",
       "    </tr>\n",
       "  </thead>\n",
       "  <tbody>\n",
       "    <tr>\n",
       "      <th>0</th>\n",
       "      <td>M1B</td>\n",
       "      <td>43.806686</td>\n",
       "      <td>-79.194353</td>\n",
       "    </tr>\n",
       "    <tr>\n",
       "      <th>1</th>\n",
       "      <td>M1C</td>\n",
       "      <td>43.784535</td>\n",
       "      <td>-79.160497</td>\n",
       "    </tr>\n",
       "    <tr>\n",
       "      <th>2</th>\n",
       "      <td>M1E</td>\n",
       "      <td>43.763573</td>\n",
       "      <td>-79.188711</td>\n",
       "    </tr>\n",
       "    <tr>\n",
       "      <th>3</th>\n",
       "      <td>M1G</td>\n",
       "      <td>43.770992</td>\n",
       "      <td>-79.216917</td>\n",
       "    </tr>\n",
       "    <tr>\n",
       "      <th>4</th>\n",
       "      <td>M1H</td>\n",
       "      <td>43.773136</td>\n",
       "      <td>-79.239476</td>\n",
       "    </tr>\n",
       "    <tr>\n",
       "      <th>...</th>\n",
       "      <td>...</td>\n",
       "      <td>...</td>\n",
       "      <td>...</td>\n",
       "    </tr>\n",
       "    <tr>\n",
       "      <th>98</th>\n",
       "      <td>M9N</td>\n",
       "      <td>43.706876</td>\n",
       "      <td>-79.518188</td>\n",
       "    </tr>\n",
       "    <tr>\n",
       "      <th>99</th>\n",
       "      <td>M9P</td>\n",
       "      <td>43.696319</td>\n",
       "      <td>-79.532242</td>\n",
       "    </tr>\n",
       "    <tr>\n",
       "      <th>100</th>\n",
       "      <td>M9R</td>\n",
       "      <td>43.688905</td>\n",
       "      <td>-79.554724</td>\n",
       "    </tr>\n",
       "    <tr>\n",
       "      <th>101</th>\n",
       "      <td>M9V</td>\n",
       "      <td>43.739416</td>\n",
       "      <td>-79.588437</td>\n",
       "    </tr>\n",
       "    <tr>\n",
       "      <th>102</th>\n",
       "      <td>M9W</td>\n",
       "      <td>43.706748</td>\n",
       "      <td>-79.594054</td>\n",
       "    </tr>\n",
       "  </tbody>\n",
       "</table>\n",
       "<p>103 rows × 3 columns</p>\n",
       "</div>"
      ],
      "text/plain": [
       "    Postal Code   Latitude  Longitude\n",
       "0           M1B  43.806686 -79.194353\n",
       "1           M1C  43.784535 -79.160497\n",
       "2           M1E  43.763573 -79.188711\n",
       "3           M1G  43.770992 -79.216917\n",
       "4           M1H  43.773136 -79.239476\n",
       "..          ...        ...        ...\n",
       "98          M9N  43.706876 -79.518188\n",
       "99          M9P  43.696319 -79.532242\n",
       "100         M9R  43.688905 -79.554724\n",
       "101         M9V  43.739416 -79.588437\n",
       "102         M9W  43.706748 -79.594054\n",
       "\n",
       "[103 rows x 3 columns]"
      ]
     },
     "execution_count": 8,
     "metadata": {},
     "output_type": "execute_result"
    }
   ],
   "source": [
    "df_coordinate = pd.read_csv('Geospatial_Coordinates.csv')\n",
    "df_coordinate"
   ]
  },
  {
   "cell_type": "code",
   "execution_count": 12,
   "metadata": {},
   "outputs": [
    {
     "data": {
      "text/html": [
       "<div>\n",
       "<style scoped>\n",
       "    .dataframe tbody tr th:only-of-type {\n",
       "        vertical-align: middle;\n",
       "    }\n",
       "\n",
       "    .dataframe tbody tr th {\n",
       "        vertical-align: top;\n",
       "    }\n",
       "\n",
       "    .dataframe thead th {\n",
       "        text-align: right;\n",
       "    }\n",
       "</style>\n",
       "<table border=\"1\" class=\"dataframe\">\n",
       "  <thead>\n",
       "    <tr style=\"text-align: right;\">\n",
       "      <th></th>\n",
       "      <th>Postal Code</th>\n",
       "      <th>Borough</th>\n",
       "      <th>Neighbourhood</th>\n",
       "      <th>Latitude</th>\n",
       "      <th>Longitude</th>\n",
       "    </tr>\n",
       "  </thead>\n",
       "  <tbody>\n",
       "    <tr>\n",
       "      <th>0</th>\n",
       "      <td>M1B</td>\n",
       "      <td>Scarborough</td>\n",
       "      <td>Malvern, Rouge</td>\n",
       "      <td>43.806686</td>\n",
       "      <td>-79.194353</td>\n",
       "    </tr>\n",
       "    <tr>\n",
       "      <th>1</th>\n",
       "      <td>M1C</td>\n",
       "      <td>Scarborough</td>\n",
       "      <td>Rouge Hill, Port Union, Highland Creek</td>\n",
       "      <td>43.784535</td>\n",
       "      <td>-79.160497</td>\n",
       "    </tr>\n",
       "    <tr>\n",
       "      <th>2</th>\n",
       "      <td>M1E</td>\n",
       "      <td>Scarborough</td>\n",
       "      <td>Guildwood, Morningside, West Hill</td>\n",
       "      <td>43.763573</td>\n",
       "      <td>-79.188711</td>\n",
       "    </tr>\n",
       "    <tr>\n",
       "      <th>3</th>\n",
       "      <td>M1G</td>\n",
       "      <td>Scarborough</td>\n",
       "      <td>Woburn</td>\n",
       "      <td>43.770992</td>\n",
       "      <td>-79.216917</td>\n",
       "    </tr>\n",
       "    <tr>\n",
       "      <th>4</th>\n",
       "      <td>M1H</td>\n",
       "      <td>Scarborough</td>\n",
       "      <td>Cedarbrae</td>\n",
       "      <td>43.773136</td>\n",
       "      <td>-79.239476</td>\n",
       "    </tr>\n",
       "    <tr>\n",
       "      <th>...</th>\n",
       "      <td>...</td>\n",
       "      <td>...</td>\n",
       "      <td>...</td>\n",
       "      <td>...</td>\n",
       "      <td>...</td>\n",
       "    </tr>\n",
       "    <tr>\n",
       "      <th>98</th>\n",
       "      <td>M9N</td>\n",
       "      <td>York</td>\n",
       "      <td>Weston</td>\n",
       "      <td>43.706876</td>\n",
       "      <td>-79.518188</td>\n",
       "    </tr>\n",
       "    <tr>\n",
       "      <th>99</th>\n",
       "      <td>M9P</td>\n",
       "      <td>Etobicoke</td>\n",
       "      <td>Westmount</td>\n",
       "      <td>43.696319</td>\n",
       "      <td>-79.532242</td>\n",
       "    </tr>\n",
       "    <tr>\n",
       "      <th>100</th>\n",
       "      <td>M9R</td>\n",
       "      <td>Etobicoke</td>\n",
       "      <td>Kingsview Village, St. Phillips, Martin Grove ...</td>\n",
       "      <td>43.688905</td>\n",
       "      <td>-79.554724</td>\n",
       "    </tr>\n",
       "    <tr>\n",
       "      <th>101</th>\n",
       "      <td>M9V</td>\n",
       "      <td>Etobicoke</td>\n",
       "      <td>South Steeles, Silverstone, Humbergate, Jamest...</td>\n",
       "      <td>43.739416</td>\n",
       "      <td>-79.588437</td>\n",
       "    </tr>\n",
       "    <tr>\n",
       "      <th>102</th>\n",
       "      <td>M9W</td>\n",
       "      <td>Etobicoke</td>\n",
       "      <td>Northwest, West Humber - Clairville</td>\n",
       "      <td>43.706748</td>\n",
       "      <td>-79.594054</td>\n",
       "    </tr>\n",
       "  </tbody>\n",
       "</table>\n",
       "<p>103 rows × 5 columns</p>\n",
       "</div>"
      ],
      "text/plain": [
       "    Postal Code      Borough  \\\n",
       "0           M1B  Scarborough   \n",
       "1           M1C  Scarborough   \n",
       "2           M1E  Scarborough   \n",
       "3           M1G  Scarborough   \n",
       "4           M1H  Scarborough   \n",
       "..          ...          ...   \n",
       "98          M9N         York   \n",
       "99          M9P    Etobicoke   \n",
       "100         M9R    Etobicoke   \n",
       "101         M9V    Etobicoke   \n",
       "102         M9W    Etobicoke   \n",
       "\n",
       "                                         Neighbourhood   Latitude  Longitude  \n",
       "0                                       Malvern, Rouge  43.806686 -79.194353  \n",
       "1               Rouge Hill, Port Union, Highland Creek  43.784535 -79.160497  \n",
       "2                    Guildwood, Morningside, West Hill  43.763573 -79.188711  \n",
       "3                                               Woburn  43.770992 -79.216917  \n",
       "4                                            Cedarbrae  43.773136 -79.239476  \n",
       "..                                                 ...        ...        ...  \n",
       "98                                              Weston  43.706876 -79.518188  \n",
       "99                                           Westmount  43.696319 -79.532242  \n",
       "100  Kingsview Village, St. Phillips, Martin Grove ...  43.688905 -79.554724  \n",
       "101  South Steeles, Silverstone, Humbergate, Jamest...  43.739416 -79.588437  \n",
       "102                Northwest, West Humber - Clairville  43.706748 -79.594054  \n",
       "\n",
       "[103 rows x 5 columns]"
      ]
     },
     "execution_count": 12,
     "metadata": {},
     "output_type": "execute_result"
    }
   ],
   "source": [
    "df_with_coor = df_new\n",
    "df_with_coor['Latitude'] = df_coordinate.loc[df_coordinate['Postal Code'] == df_with_coor['Postal Code'], ['Latitude']] = df_coordinate['Latitude']\n",
    "df_with_coor['Longitude'] = df_coordinate.loc[df_coordinate['Postal Code'] == df_with_coor['Postal Code'], ['Longitude']] = df_coordinate['Longitude']\n",
    "df_with_coor"
   ]
  },
  {
   "cell_type": "markdown",
   "metadata": {},
   "source": [
    "## Analyzing and clustring"
   ]
  },
  {
   "cell_type": "markdown",
   "metadata": {},
   "source": [
    "### Import and download folium"
   ]
  },
  {
   "cell_type": "code",
   "execution_count": 18,
   "metadata": {},
   "outputs": [
    {
     "name": "stdout",
     "output_type": "stream",
     "text": [
      "Collecting folium\n",
      "  Downloading folium-0.11.0-py2.py3-none-any.whl (93 kB)\n",
      "Requirement already satisfied: numpy in c:\\programdata\\anaconda3\\lib\\site-packages (from folium) (1.18.5)\n",
      "Requirement already satisfied: requests in c:\\programdata\\anaconda3\\lib\\site-packages (from folium) (2.24.0)\n",
      "Collecting branca>=0.3.0\n",
      "  Downloading branca-0.4.1-py3-none-any.whl (24 kB)\n",
      "Requirement already satisfied: jinja2>=2.9 in c:\\programdata\\anaconda3\\lib\\site-packages (from folium) (2.11.2)\n",
      "Requirement already satisfied: chardet<4,>=3.0.2 in c:\\programdata\\anaconda3\\lib\\site-packages (from requests->folium) (3.0.4)\n",
      "Requirement already satisfied: certifi>=2017.4.17 in c:\\programdata\\anaconda3\\lib\\site-packages (from requests->folium) (2020.6.20)\n",
      "Requirement already satisfied: urllib3!=1.25.0,!=1.25.1,<1.26,>=1.21.1 in c:\\programdata\\anaconda3\\lib\\site-packages (from requests->folium) (1.25.9)\n",
      "Requirement already satisfied: idna<3,>=2.5 in c:\\programdata\\anaconda3\\lib\\site-packages (from requests->folium) (2.10)\n",
      "Requirement already satisfied: MarkupSafe>=0.23 in c:\\programdata\\anaconda3\\lib\\site-packages (from jinja2>=2.9->folium) (1.1.1)\n",
      "Installing collected packages: branca, folium\n",
      "Successfully installed branca-0.4.1 folium-0.11.0\n",
      "Note: you may need to restart the kernel to use updated packages.\n"
     ]
    }
   ],
   "source": [
    "pip install folium"
   ]
  },
  {
   "cell_type": "code",
   "execution_count": 21,
   "metadata": {},
   "outputs": [
    {
     "name": "stdout",
     "output_type": "stream",
     "text": [
      "Collecting geopy\n",
      "  Downloading geopy-2.0.0-py3-none-any.whl (111 kB)\n",
      "Collecting geographiclib<2,>=1.49\n",
      "  Downloading geographiclib-1.50-py3-none-any.whl (38 kB)\n",
      "Installing collected packages: geographiclib, geopy\n",
      "Successfully installed geographiclib-1.50 geopy-2.0.0\n",
      "Note: you may need to restart the kernel to use updated packages.\n"
     ]
    }
   ],
   "source": [
    "pip install geopy"
   ]
  },
  {
   "cell_type": "code",
   "execution_count": 22,
   "metadata": {},
   "outputs": [],
   "source": [
    "import folium\n",
    "from geopy.geocoders import Nominatim"
   ]
  },
  {
   "cell_type": "markdown",
   "metadata": {},
   "source": [
    "### Getting longitude and latitude for toronto"
   ]
  },
  {
   "cell_type": "code",
   "execution_count": 23,
   "metadata": {},
   "outputs": [
    {
     "name": "stdout",
     "output_type": "stream",
     "text": [
      "The longitude-79.3839347 and The latitude43.6534817\n"
     ]
    }
   ],
   "source": [
    "address = 'Toronto'\n",
    "geolocator = Nominatim(user_agent=\"to_explorer\")\n",
    "location = geolocator.geocode(address)\n",
    "latitude = location.latitude\n",
    "longitude = location.longitude\n",
    "print('The longitude{} and The latitude{}'.format(longitude,latitude))"
   ]
  },
  {
   "cell_type": "markdown",
   "metadata": {},
   "source": [
    "### Create Map of Toronto"
   ]
  },
  {
   "cell_type": "code",
   "execution_count": 26,
   "metadata": {},
   "outputs": [
    {
     "data": {
      "text/html": [
       "<div style=\"width:100%;\"><div style=\"position:relative;width:100%;height:0;padding-bottom:60%;\"><span style=\"color:#565656\">Make this Notebook Trusted to load map: File -> Trust Notebook</span><iframe src=\"about:blank\" style=\"position:absolute;width:100%;height:100%;left:0;top:0;border:none !important;\" data-html=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 onload=\"this.contentDocument.open();this.contentDocument.write(atob(this.getAttribute('data-html')));this.contentDocument.close();\" allowfullscreen webkitallowfullscreen mozallowfullscreen></iframe></div></div>"
      ],
      "text/plain": [
       "<folium.folium.Map at 0x1ccc34efb20>"
      ]
     },
     "execution_count": 26,
     "metadata": {},
     "output_type": "execute_result"
    }
   ],
   "source": [
    "toronto_map = folium.Map(location=[latitude,longitude],zoom_start=10)\n",
    "\n",
    "for lat,lng,borough,neighborhood in zip(df_with_coor['Latitude'],df_with_coor['Longitude'],df_with_coor['Borough'],df_with_coor['Neighbourhood']):\n",
    "    label = '{}, {}'.format(neighborhood,borough)\n",
    "    label = folium.Popup(labelmparse_html = True)\n",
    "    folium.CircleMarker(\n",
    "        [lat,lng],\n",
    "        radius=5,\n",
    "        popup=label,\n",
    "        color='blue',\n",
    "        fill=True,\n",
    "        full_color='#3186cc',\n",
    "        fill_opacity=0.7,\n",
    "        parse_html=False).add_to(toronto_map)\n",
    "toronto_map"
   ]
  },
  {
   "cell_type": "code",
   "execution_count": null,
   "metadata": {},
   "outputs": [],
   "source": []
  }
 ],
 "metadata": {
  "kernelspec": {
   "display_name": "Python 3",
   "language": "python",
   "name": "python3"
  },
  "language_info": {
   "codemirror_mode": {
    "name": "ipython",
    "version": 3
   },
   "file_extension": ".py",
   "mimetype": "text/x-python",
   "name": "python",
   "nbconvert_exporter": "python",
   "pygments_lexer": "ipython3",
   "version": "3.8.3"
  }
 },
 "nbformat": 4,
 "nbformat_minor": 4
}
